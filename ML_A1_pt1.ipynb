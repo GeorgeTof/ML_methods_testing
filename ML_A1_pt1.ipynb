{
  "nbformat": 4,
  "nbformat_minor": 0,
  "metadata": {
    "colab": {
      "provenance": []
    },
    "kernelspec": {
      "name": "python3",
      "display_name": "Python 3"
    },
    "language_info": {
      "name": "python"
    }
  },
  "cells": [
    {
      "cell_type": "markdown",
      "source": [
        "# Finding Appropriate Datasets for Each Method\n",
        "\n",
        "## Approach:\n",
        "- The assumptions and strengths of each model will be stated  \n",
        "  - Based on these, an appropriate dataset will be generated for each model  \n",
        "  - Every model will be tested on every dataset\n",
        "- Each model will be evaluated using 5-fold cross-validation  \n",
        "  - This ensures unbiased evaluation and reliable results\n",
        "- Performance will be measured and compared using the F1 score  \n",
        "  - This balances false positives and false negatives, making it more reliable than accuracy, especially in cases of imbalanced classes\n",
        "- The test results will be placed into a matrix and compared to validate the assumptions\n"
      ],
      "metadata": {
        "id": "d4YQqxDA9hFC"
      }
    },
    {
      "cell_type": "markdown",
      "source": [
        "#### *Graph drawing utility function*"
      ],
      "metadata": {
        "id": "OFrphM_R9_WF"
      }
    },
    {
      "cell_type": "markdown",
      "source": [
        "#### *Declaring the models*"
      ],
      "metadata": {
        "id": "L6Zoa0-i--no"
      }
    },
    {
      "cell_type": "markdown",
      "source": [
        "#### *Declaring the result matrix*"
      ],
      "metadata": {
        "id": "5XLT033W_ED5"
      }
    },
    {
      "cell_type": "markdown",
      "source": [
        "## Logistic regression\n",
        "\n",
        "#### Assumptions:\n",
        "- Linearly separable data\n",
        "\n",
        "#### Strengths:\n",
        "- Efficient on smaller datasets  \n",
        "- Deals well with overlap of classes\n",
        "\n",
        "#### Weaknesses:\n",
        "- Assumes linear boundaries; doesn't work with complex relationships\n",
        "\n",
        "### Appropriate dataset:\n",
        "-  **Chosen dataset name**\n"
      ],
      "metadata": {
        "id": "5_8UHRGG-Z0v"
      }
    }
  ]
}