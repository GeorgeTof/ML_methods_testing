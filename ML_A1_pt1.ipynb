{
  "nbformat": 4,
  "nbformat_minor": 0,
  "metadata": {
    "colab": {
      "provenance": [],
      "collapsed_sections": [
        "gx4MtpTbP7aD",
        "5_8UHRGG-Z0v",
        "r6zAgiNFOCap",
        "YaPlI9IYPHOo",
        "CKzM0PP0PXdw"
      ]
    },
    "kernelspec": {
      "name": "python3",
      "display_name": "Python 3"
    },
    "language_info": {
      "name": "python"
    }
  },
  "cells": [
    {
      "cell_type": "markdown",
      "source": [
        "# Finding Appropriate Datasets for Each Method\n"
      ],
      "metadata": {
        "id": "d4YQqxDA9hFC"
      }
    },
    {
      "cell_type": "markdown",
      "source": [
        "## Approach:"
      ],
      "metadata": {
        "id": "gx4MtpTbP7aD"
      }
    },
    {
      "cell_type": "markdown",
      "source": [
        "- The assumptions and strengths of each model will be stated  \n",
        "  - Based on these, an appropriate dataset will be generated for each model  \n",
        "  - Every model will be tested on every dataset\n",
        "- Each model will be evaluated using 5-fold cross-validation  \n",
        "  - This ensures unbiased evaluation and reliable results\n",
        "- Performance will be measured and compared using the F1 score  \n",
        "  - This balances false positives and false negatives, making it more reliable than accuracy, especially in cases of imbalanced classes\n",
        "- The test results will be placed into a matrix and compared to validate the assumptions"
      ],
      "metadata": {
        "id": "kxxV6B68QD3U"
      }
    },
    {
      "cell_type": "markdown",
      "source": [
        "#### *Graph drawing utility function*"
      ],
      "metadata": {
        "id": "OFrphM_R9_WF"
      }
    },
    {
      "cell_type": "markdown",
      "source": [
        "#### *Declaring the models*"
      ],
      "metadata": {
        "id": "L6Zoa0-i--no"
      }
    },
    {
      "cell_type": "markdown",
      "source": [
        "#### *Declaring the result matrix*"
      ],
      "metadata": {
        "id": "5XLT033W_ED5"
      }
    },
    {
      "cell_type": "markdown",
      "source": [
        "## **Logistic regression**\n"
      ],
      "metadata": {
        "id": "5_8UHRGG-Z0v"
      }
    },
    {
      "cell_type": "markdown",
      "source": [
        "#### Assumptions:\n",
        "- Linearly separable data\n",
        "\n",
        "#### Strengths:\n",
        "- Efficient on smaller datasets  \n",
        "- Deals well with overlap of classes\n",
        "\n",
        "#### Weaknesses:\n",
        "- Assumes linear boundaries; doesn't work with complex relationships\n",
        "\n",
        "### Appropriate dataset:\n",
        "-  **Linearly separable classes with little overlap**\n",
        "  - Moderate number of instances, balanced classes"
      ],
      "metadata": {
        "id": "Y4jRiKbvJL5b"
      }
    },
    {
      "cell_type": "code",
      "source": [],
      "metadata": {
        "id": "s5-2hNItJPHG"
      },
      "execution_count": null,
      "outputs": []
    },
    {
      "cell_type": "markdown",
      "source": [
        "## **LDA** (Linear Discriminant Analysis)\n"
      ],
      "metadata": {
        "id": "r6zAgiNFOCap"
      }
    },
    {
      "cell_type": "markdown",
      "source": [
        "#### Assumptions:\n",
        "- Each class follows a multivariate normal (Gaussian) distribution\n",
        "- Classes must have the same covariance matrix\n",
        "- Linearly separable classes\n",
        "\n",
        "#### Strengths:\n",
        "- Sample-efficient, works well even with few instances\n",
        "- Robust to some noise\n",
        "- Less prone to overfitting\n",
        "\n",
        "#### Weaknesses:\n",
        "- Assumes linear boundries\n",
        "- Imposes same distribution of classes\n",
        "\n",
        "### Appropriate dataset:\n",
        "-  **Gaussian clouds with little overlap**\n",
        "  - **Small number of instances**, balanced classes"
      ],
      "metadata": {
        "id": "KZcT278sORA4"
      }
    },
    {
      "cell_type": "code",
      "source": [],
      "metadata": {
        "id": "wpM3Nn3vcmRb"
      },
      "execution_count": null,
      "outputs": []
    },
    {
      "cell_type": "markdown",
      "source": [
        "## **QDA** (**Quadratic** Discriminant Analysis)\n"
      ],
      "metadata": {
        "id": "-l8Tc_AfOayU"
      }
    },
    {
      "cell_type": "markdown",
      "source": [
        "#### Assumptions:\n",
        "- Each class follows a multivariate normal (Gaussian) distribution\n",
        "\n",
        "#### Strengths:\n",
        "- Clases may have different covariances\n",
        "- Draws curved decision boundries\n",
        "\n",
        "#### Weaknesses:\n",
        "- Requires greater number of instances\n",
        "- Sensitive to class imbalances\n",
        "- Prone to overfitting for few instances\n",
        "\n",
        "### Appropriate dataset:\n",
        "-  **Clouds of different covariances with overlap**\n",
        "  - **Large number of instances**, balanced classes"
      ],
      "metadata": {
        "id": "YJ7zOhJYOgcX"
      }
    },
    {
      "cell_type": "code",
      "source": [],
      "metadata": {
        "id": "9nvW3CJhgA9U"
      },
      "execution_count": null,
      "outputs": []
    },
    {
      "cell_type": "markdown",
      "source": [
        "## **Decision Trees** *(no pruning)*\n"
      ],
      "metadata": {
        "id": "r56scVZrOj0n"
      }
    },
    {
      "cell_type": "markdown",
      "source": [
        "#### Assumptions:\n",
        "- Enough data to support meaningful splits  \n",
        "- Ideally, data shapes that can be split along the axes\n",
        "\n",
        "#### Strengths:\n",
        "- Handle well both discrete and continuous data  \n",
        "- Can capture non-linear patterns  \n",
        "- Flexible with many types of data — very few assumptions made  \n",
        "- Easy interpretability\n",
        "\n",
        "#### Weaknesses:\n",
        "- Prone to overfitting if implemented without pruning, especially for noisy data  \n",
        "- Can struggle with curved or diagonal boundaries  \n",
        "- Favours the majority class in the case of disproportional classes\n",
        "\n",
        "### Appropriate dataset:\n",
        "- **A class in the shape of a circle surrounded by points of the other class**\n",
        "  - **Very little noise**\n",
        "  - Balanced classes, medium number of instances\n",
        "- *Other options:*\n",
        "  - Square surrounded by the other class  \n",
        "  - The example with half-moons\n"
      ],
      "metadata": {
        "id": "ljMOEU51O4b-"
      }
    },
    {
      "cell_type": "code",
      "source": [],
      "metadata": {
        "id": "yngvbPVCk0Qk"
      },
      "execution_count": null,
      "outputs": []
    },
    {
      "cell_type": "markdown",
      "source": [
        "## **Decision Trees** *(depth limited to 2)*\n"
      ],
      "metadata": {
        "id": "aVpNS2CsO6OF"
      }
    },
    {
      "cell_type": "markdown",
      "source": [
        "#### Assumptions:\n",
        "- Smaller number of features due to fewer being taken into account\n",
        "- Similar to regular decision trees\n",
        "\n",
        "#### Strengths:\n",
        "- **More immune to noisy data**\n",
        "- **Less prone to overfitting on small datasets**\n",
        "- Handle well both discrete and continuous data  \n",
        "- Can capture non-linear patterns  \n",
        "- Flexible with many types of data — very few assumptions made  \n",
        "- Easy interpretability\n",
        "\n",
        "#### Weaknesses:\n",
        "- **More limited complexity of class shapes**\n",
        "- Can struggle with curved or diagonal boundaries  \n",
        "- Favours the majority class in the case of disproportional classes\n",
        "\n",
        "### Appropriate datasets:\n",
        "- **A class in the shape of a circle surrounded by points of the other class**\n",
        "  - **Noisy data**\n",
        "  - Balanced classes, medium number of instances\n",
        "    - *Takes advantage of the immunity to noise*\n",
        "- **A class in the shape of a circle surrounded by points of the other class**\n",
        "  - **Small number of instances**\n",
        "  - Balanced classes, reduced noise\n",
        "    - *Takes advantage of the immunity to overfitting*\n",
        "- *Other options:*\n",
        "  - Square surrounded by the other class  \n",
        "  - The example with half-moons\n"
      ],
      "metadata": {
        "id": "x5-nknjhPCEe"
      }
    },
    {
      "cell_type": "code",
      "source": [],
      "metadata": {
        "id": "QWpieLUhpYqL"
      },
      "execution_count": null,
      "outputs": []
    },
    {
      "cell_type": "markdown",
      "source": [
        "## **SVM (Linear)**\n"
      ],
      "metadata": {
        "id": "YaPlI9IYPHOo"
      }
    },
    {
      "cell_type": "markdown",
      "source": [
        "#### Assumptions:\n",
        "-\n",
        "\n",
        "#### Strengths:\n",
        "-\n",
        "-\n",
        "\n",
        "#### Weaknesses:\n",
        "-\n",
        "\n",
        "### Appropriate dataset:\n",
        "-  **..**\n",
        "  - ."
      ],
      "metadata": {
        "id": "FOiKqfKoPWNX"
      }
    },
    {
      "cell_type": "markdown",
      "source": [
        "## **SVM (RBF Kernel)**\n"
      ],
      "metadata": {
        "id": "CKzM0PP0PXdw"
      }
    },
    {
      "cell_type": "markdown",
      "source": [
        "#### Assumptions:\n",
        "-\n",
        "\n",
        "#### Strengths:\n",
        "-\n",
        "-\n",
        "\n",
        "#### Weaknesses:\n",
        "-\n",
        "\n",
        "### Appropriate dataset:\n",
        "-  **..**\n",
        "  - ."
      ],
      "metadata": {
        "id": "iz9XJE1kPcya"
      }
    }
  ]
}