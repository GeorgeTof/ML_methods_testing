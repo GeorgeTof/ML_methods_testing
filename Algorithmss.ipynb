{
  "nbformat": 4,
  "nbformat_minor": 0,
  "metadata": {
    "colab": {
      "provenance": []
    },
    "kernelspec": {
      "name": "python3",
      "display_name": "Python 3"
    },
    "language_info": {
      "name": "python"
    }
  },
  "cells": [
    {
      "cell_type": "markdown",
      "source": [
        "# ALGORITMI"
      ],
      "metadata": {
        "id": "kWA6XXLG_V9c"
      }
    },
    {
      "cell_type": "markdown",
      "source": [
        "## Logistic regression"
      ],
      "metadata": {
        "id": "yLaTcpKw_Y-l"
      }
    },
    {
      "cell_type": "code",
      "execution_count": null,
      "metadata": {
        "id": "oWrLnH4Y8ROS"
      },
      "outputs": [],
      "source": [
        "from sklearn.linear_model import LogisticRegression\n",
        "\n",
        "model = LogisticRegression(max_iter=200)\n",
        "model.fit(X_train, y_train)"
      ]
    },
    {
      "cell_type": "markdown",
      "source": [
        "## LDA & QDA"
      ],
      "metadata": {
        "id": "Gx8HibNf_byS"
      }
    },
    {
      "cell_type": "code",
      "source": [
        "from sklearn.discriminant_analysis import LinearDiscriminantAnalysis, QuadraticDiscriminantAnalysis\n",
        "\n",
        "# --- LDA ---\n",
        "lda = LinearDiscriminantAnalysis()\n",
        "lda.fit(X_train, y_train)\n",
        "y_pred_lda = lda.predict(X_test)\n",
        "print(\"LDA Accuracy:\", accuracy_score(y_test, y_pred_lda))\n",
        "\n",
        "# --- QDA ---\n",
        "qda = QuadraticDiscriminantAnalysis()\n",
        "qda.fit(X_train, y_train)\n",
        "y_pred_qda = qda.predict(X_test)\n",
        "print(\"QDA Accuracy:\", accuracy_score(y_test, y_pred_qda))"
      ],
      "metadata": {
        "id": "Rdg-WDt4Bx7B"
      },
      "execution_count": null,
      "outputs": []
    },
    {
      "cell_type": "markdown",
      "source": [
        "## SWM Linear & RBF"
      ],
      "metadata": {
        "id": "TXyQF-vUCq1X"
      }
    },
    {
      "cell_type": "code",
      "source": [
        "from sklearn.svm import SVC  # Support Vector Classifier\n",
        "\n",
        "#linear\n",
        "model = SVC(kernel='linear', C=1E10)  # Very high C to reduce regularization\n",
        "model.fit(X, y)\n",
        "\n",
        "#rbf\n",
        "model = SVC(kernel='rbf', C=1.0, gamma='scale')  # gamma can be 'scale' or 'auto'\n",
        "model.fit(X, y)"
      ],
      "metadata": {
        "id": "CF6ZhZYjCuvH"
      },
      "execution_count": null,
      "outputs": []
    }
  ]
}